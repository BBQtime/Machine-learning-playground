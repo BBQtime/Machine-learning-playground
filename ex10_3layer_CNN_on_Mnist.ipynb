{
  "nbformat": 4,
  "nbformat_minor": 0,
  "metadata": {
    "colab": {
      "name": "ex10_3layer_CNN on Mnist.ipynb",
      "version": "0.3.2",
      "provenance": [],
      "include_colab_link": true
    },
    "kernelspec": {
      "name": "python3",
      "display_name": "Python 3"
    },
    "accelerator": "GPU"
  },
  "cells": [
    {
      "cell_type": "markdown",
      "metadata": {
        "id": "view-in-github",
        "colab_type": "text"
      },
      "source": [
        "<a href=\"https://colab.research.google.com/github/BBQtime/Machine-learning-playground/blob/master/ex10_3layer_CNN_on_Mnist.ipynb\" target=\"_parent\"><img src=\"https://colab.research.google.com/assets/colab-badge.svg\" alt=\"Open In Colab\"/></a>"
      ]
    },
    {
      "metadata": {
        "id": "VxQqU_hMIaOW",
        "colab_type": "code",
        "colab": {}
      },
      "cell_type": "code",
      "source": [
        "# imports\n",
        "import tensorflow as tf\n",
        "import numpy as np\n",
        "import matplotlib.pyplot as plt\n",
        "from tensorflow.examples.tutorials.mnist import input_data\n",
        "\n"
      ],
      "execution_count": 0,
      "outputs": []
    },
    {
      "metadata": {
        "id": "kck835xMpmEc",
        "colab_type": "code",
        "outputId": "ea71b057-523c-4a4c-81fd-4c134cc1718f",
        "colab": {
          "base_uri": "https://localhost:8080/",
          "height": 337
        }
      },
      "cell_type": "code",
      "source": [
        "!nvidia-smi"
      ],
      "execution_count": 0,
      "outputs": [
        {
          "output_type": "stream",
          "text": [
            "Thu Apr 25 08:42:26 2019       \n",
            "+-----------------------------------------------------------------------------+\n",
            "| NVIDIA-SMI 418.56       Driver Version: 410.79       CUDA Version: 10.0     |\n",
            "|-------------------------------+----------------------+----------------------+\n",
            "| GPU  Name        Persistence-M| Bus-Id        Disp.A | Volatile Uncorr. ECC |\n",
            "| Fan  Temp  Perf  Pwr:Usage/Cap|         Memory-Usage | GPU-Util  Compute M. |\n",
            "|===============================+======================+======================|\n",
            "|   0  Tesla T4            Off  | 00000000:00:04.0 Off |                    0 |\n",
            "| N/A   57C    P8    16W /  70W |      0MiB / 15079MiB |      0%      Default |\n",
            "+-------------------------------+----------------------+----------------------+\n",
            "                                                                               \n",
            "+-----------------------------------------------------------------------------+\n",
            "| Processes:                                                       GPU Memory |\n",
            "|  GPU       PID   Type   Process name                             Usage      |\n",
            "|=============================================================================|\n",
            "|  No running processes found                                                 |\n",
            "+-----------------------------------------------------------------------------+\n"
          ],
          "name": "stdout"
        }
      ]
    },
    {
      "metadata": {
        "id": "puliYJJSIkG0",
        "colab_type": "code",
        "colab": {}
      },
      "cell_type": "code",
      "source": [
        "# weight(beta1) and bais(beta0) wrappers\n",
        "def weight_variable(name, shape):\n",
        "    \"\"\"\n",
        "    Create a weight variable with appropriate initialization\n",
        "    \"\"\"\n",
        "    initer = tf.truncated_normal_initializer(stddev=0.01)\n",
        "    return tf.get_variable('W_' + name,\n",
        "                           dtype=tf.float32,\n",
        "                           shape=shape,\n",
        "                           initializer=initer)\n",
        "\n",
        "def bias_variable(name, shape):\n",
        "    \"\"\"\n",
        "    Create a bias variable with appropriate initialization\n",
        "    \"\"\"\n",
        "    initial = tf.constant(0., shape=shape, dtype=tf.float32)\n",
        "    return tf.get_variable('b_' + name,\n",
        "                           dtype=tf.float32,\n",
        "                           initializer=initial)\n",
        "#dense layer\n",
        "def fc_layer(x, num_units, name, use_relu=True):\n",
        "    \"\"\"\n",
        "    Create a fully-connected layer\n",
        "   \n",
        "    \"\"\"\n",
        "    with tf.variable_scope(name):\n",
        "        in_dim = x.get_shape()[1]\n",
        "        W = weight_variable(name, shape=[in_dim, num_units])\n",
        "        b = bias_variable(name, [num_units])\n",
        "        layer = tf.matmul(x, W)\n",
        "        layer += b\n",
        "        if use_relu:\n",
        "            layer = tf.nn.relu(layer)\n",
        "        return layer\n",
        "#convolutional layer\n",
        "def conv_layer(x, filter_size, num_filters, stride, name):\n",
        "    \"\"\"\n",
        "    Create a 2D convolution layer\n",
        "    \n",
        "    \"\"\"\n",
        "    with tf.variable_scope(name):\n",
        "        num_in_channel = x.get_shape().as_list()[-1]\n",
        "        shape = [filter_size, filter_size, num_in_channel, num_filters]\n",
        "        W = weight_variable(name,shape=shape)\n",
        "        tf.summary.histogram('weight', W)\n",
        "        b = bias_variable(name,shape=[num_filters])\n",
        "        tf.summary.histogram('bias', b)\n",
        "        layer = tf.nn.conv2d(x, W,\n",
        "                             strides=[1, stride, stride, 1],\n",
        "                             padding=\"SAME\")\n",
        "        layer += b\n",
        "        return tf.nn.relu(layer)\n",
        "      \n",
        "def max_pool(x, ksize, stride, name):\n",
        "    \"\"\"\n",
        "    Create a max pooling layer\n",
        "\n",
        "    \"\"\"\n",
        "    return tf.nn.max_pool(x,\n",
        "                          ksize=[1, ksize, ksize, 1],\n",
        "                          strides=[1, stride, stride, 1],\n",
        "                          padding=\"SAME\",\n",
        "                          name=name)\n",
        "  \n",
        "def flatten_layer(layer):\n",
        "    \"\"\"\n",
        "    Flattens the output of the convolutional layer to be fed into fully-connected layer\n",
        "    \"\"\"\n",
        "    with tf.variable_scope('Flatten_layer'):\n",
        "        layer_shape = layer.get_shape()\n",
        "        num_features = layer_shape[1:4].num_elements()\n",
        "        layer_flat = tf.reshape(layer, [-1, num_features])\n",
        "    return layer_flat"
      ],
      "execution_count": 0,
      "outputs": []
    },
    {
      "metadata": {
        "id": "zJr3ExJDKmR3",
        "colab_type": "code",
        "outputId": "927aad44-b739-405d-b2fa-fc5e7dfee1c0",
        "colab": {
          "base_uri": "https://localhost:8080/",
          "height": 641
        }
      },
      "cell_type": "code",
      "source": [
        "def load_data(mode='train'):\n",
        "\n",
        "    mnist = input_data.read_data_sets(\"MNIST_data/\", one_hot=True)\n",
        "    if mode == 'train':\n",
        "        x_train, y_train, x_valid, y_valid = mnist.train.images, mnist.train.labels, \\\n",
        "                                             mnist.validation.images, mnist.validation.labels\n",
        "        x_train, _ = reformat(x_train, y_train)\n",
        "        x_valid, _ = reformat(x_valid, y_valid)\n",
        "        return x_train, y_train, x_valid, y_valid\n",
        "    elif mode == 'test':\n",
        "        x_test, y_test = mnist.test.images, mnist.test.labels\n",
        "        x_test, _ = reformat(x_test, y_test)\n",
        "    return x_test, y_test\n",
        "\n",
        "def reformat(x, y):\n",
        "    \"\"\"\n",
        "    Reformats the data to the format acceptable for convolutional layers\n",
        "    \"\"\"\n",
        "    img_size, num_ch, num_class = int(np.sqrt(x.shape[-1])), 1, len(np.unique(np.argmax(y, 1)))\n",
        "    dataset = x.reshape((-1, img_size, img_size, num_ch)).astype(np.float32)\n",
        "    labels = (np.arange(num_class) == y[:, None]).astype(np.float32)\n",
        "    return dataset, labels\n",
        "\n",
        "def randomize(x, y):\n",
        "    \"\"\" Randomizes the order of data samples and their corresponding labels\"\"\"\n",
        "    permutation = np.random.permutation(y.shape[0])\n",
        "    shuffled_x = x[permutation, :, :, :]\n",
        "    shuffled_y = y[permutation]\n",
        "    return shuffled_x, shuffled_y\n",
        "\n",
        "def get_next_batch(x, y, start, end):\n",
        "    x_batch = x[start:end]\n",
        "    y_batch = y[start:end]\n",
        "    return x_batch, y_batch\n",
        "  \n",
        "x_train, y_train, x_valid, y_valid = load_data(mode='train')\n",
        "print(\"Size of:\")\n",
        "print(\"- Training-set:\\t\\t{}\".format(len(y_train)))\n",
        "print(\"- Validation-set:\\t{}\".format(len(y_valid)))\n",
        " "
      ],
      "execution_count": 0,
      "outputs": [
        {
          "output_type": "stream",
          "text": [
            "WARNING:tensorflow:From <ipython-input-5-27fe338ce8f6>:3: read_data_sets (from tensorflow.contrib.learn.python.learn.datasets.mnist) is deprecated and will be removed in a future version.\n",
            "Instructions for updating:\n",
            "Please use alternatives such as official/mnist/dataset.py from tensorflow/models.\n",
            "WARNING:tensorflow:From /usr/local/lib/python3.6/dist-packages/tensorflow/contrib/learn/python/learn/datasets/mnist.py:260: maybe_download (from tensorflow.contrib.learn.python.learn.datasets.base) is deprecated and will be removed in a future version.\n",
            "Instructions for updating:\n",
            "Please write your own downloading logic.\n",
            "WARNING:tensorflow:From /usr/local/lib/python3.6/dist-packages/tensorflow/contrib/learn/python/learn/datasets/base.py:252: _internal_retry.<locals>.wrap.<locals>.wrapped_fn (from tensorflow.contrib.learn.python.learn.datasets.base) is deprecated and will be removed in a future version.\n",
            "Instructions for updating:\n",
            "Please use urllib or similar directly.\n",
            "Successfully downloaded train-images-idx3-ubyte.gz 9912422 bytes.\n",
            "WARNING:tensorflow:From /usr/local/lib/python3.6/dist-packages/tensorflow/contrib/learn/python/learn/datasets/mnist.py:262: extract_images (from tensorflow.contrib.learn.python.learn.datasets.mnist) is deprecated and will be removed in a future version.\n",
            "Instructions for updating:\n",
            "Please use tf.data to implement this functionality.\n",
            "Extracting MNIST_data/train-images-idx3-ubyte.gz\n",
            "Successfully downloaded train-labels-idx1-ubyte.gz 28881 bytes.\n",
            "WARNING:tensorflow:From /usr/local/lib/python3.6/dist-packages/tensorflow/contrib/learn/python/learn/datasets/mnist.py:267: extract_labels (from tensorflow.contrib.learn.python.learn.datasets.mnist) is deprecated and will be removed in a future version.\n",
            "Instructions for updating:\n",
            "Please use tf.data to implement this functionality.\n",
            "Extracting MNIST_data/train-labels-idx1-ubyte.gz\n",
            "WARNING:tensorflow:From /usr/local/lib/python3.6/dist-packages/tensorflow/contrib/learn/python/learn/datasets/mnist.py:110: dense_to_one_hot (from tensorflow.contrib.learn.python.learn.datasets.mnist) is deprecated and will be removed in a future version.\n",
            "Instructions for updating:\n",
            "Please use tf.one_hot on tensors.\n",
            "Successfully downloaded t10k-images-idx3-ubyte.gz 1648877 bytes.\n",
            "Extracting MNIST_data/t10k-images-idx3-ubyte.gz\n",
            "Successfully downloaded t10k-labels-idx1-ubyte.gz 4542 bytes.\n",
            "Extracting MNIST_data/t10k-labels-idx1-ubyte.gz\n",
            "WARNING:tensorflow:From /usr/local/lib/python3.6/dist-packages/tensorflow/contrib/learn/python/learn/datasets/mnist.py:290: DataSet.__init__ (from tensorflow.contrib.learn.python.learn.datasets.mnist) is deprecated and will be removed in a future version.\n",
            "Instructions for updating:\n",
            "Please use alternatives such as official/mnist/dataset.py from tensorflow/models.\n",
            "Size of:\n",
            "- Training-set:\t\t55000\n",
            "- Validation-set:\t5000\n"
          ],
          "name": "stdout"
        }
      ]
    },
    {
      "metadata": {
        "id": "Y4fMbQ3QIoyL",
        "colab_type": "code",
        "outputId": "5b6663a6-74bf-4b8e-baf0-5327769e2e39",
        "colab": {
          "base_uri": "https://localhost:8080/",
          "height": 224
        }
      },
      "cell_type": "code",
      "source": [
        "\n",
        "# hyper-parameters\n",
        "logs_path = \"./logs/visualize_graph\"  \n",
        "\n",
        "learning_rate = 0.001  # learning rate\n",
        "epochs = 10  # Total number of training epochs\n",
        "batch_size = 100  # Training batch size\n",
        "display_freq = 300  # Frequency of displaying the training results\n",
        "\n",
        "\n",
        "# Network Parameters\n",
        "n_channels = 1\n",
        "img_h = img_w = 28 # MNIST are 28 pixels in each dimension.\n",
        "img_size_flat = img_h * img_w # Images are stored in one-dimensional arrays of this length.\n",
        "n_classes = 10 # Number of classes, one class for each of 10 digits.\n",
        "\n",
        "# 1st Convolutional Layer\n",
        "filter_size1 = 3  # Convolution filters are 3 x 3 pixels.\n",
        "num_filters1 = 32 # There are 16 of these filters.\n",
        "stride1 = 1  # The stride of the sliding window\n",
        "\n",
        "# 2nd Convolutional Layer\n",
        "filter_size2 = 3  # Convolution filters are 3 x 3 pixels.\n",
        "num_filters2 = 64  # There are 32 of these filters.\n",
        "stride2 = 1  # The stride of the sliding window\n",
        "\n",
        "# 3rd Convolutional Layer\n",
        "filter_size3 = 3  # Convolution filters are 3 x 3 pixels.\n",
        "num_filters3 = 64  # There are 32 of these filters.\n",
        "stride3 = 1  # The stride of the sliding window\n",
        "\n",
        "# Fully-connected layer.\n",
        "h1 = 128  # Number of neurons in dense layer.\n",
        "\n",
        "\n",
        "# Create network sturcture\n",
        "# Placeholders for inputs (x), outputs(y)\n",
        "\n",
        "with tf.name_scope('Input'):\n",
        "    x = tf.placeholder(tf.float32, shape=[None, img_h, img_w, n_channels], name='X')\n",
        "    y = tf.placeholder(tf.float32, shape=[None, n_classes], name='Y')\n",
        "    \n",
        "conv1 = conv_layer(x, filter_size1, num_filters1, stride1, name='conv1')\n",
        "pool1 = max_pool(conv1, ksize=2, stride=2, name='pool1')\n",
        "conv2 = conv_layer(pool1, filter_size2, num_filters2, stride2, name='conv2')\n",
        "pool2 = max_pool(conv2, ksize=2, stride=2, name='pool2')\n",
        "conv3 = conv_layer(pool2, filter_size3, num_filters3, stride3, name='conv3')\n",
        "layer_flat = flatten_layer(conv3)\n",
        "fc1 = fc_layer(layer_flat, h1, 'FC1', use_relu=True)\n",
        "output_logits = fc_layer(fc1, n_classes, 'Output_layer', use_relu=False)\n",
        "\n",
        "# Define the loss function, optimizer, and accuracy\n",
        "with tf.variable_scope('Train'):\n",
        "    with tf.variable_scope('Loss'):\n",
        "        loss = tf.reduce_mean(tf.nn.softmax_cross_entropy_with_logits(labels=y, logits=output_logits), name='loss')\n",
        "    with tf.variable_scope('Optimizer'):\n",
        "        optimizer = tf.train.AdamOptimizer(learning_rate=learning_rate, name='Adam-op').minimize(loss)\n",
        "    with tf.variable_scope('Accuracy'):\n",
        "        correct_prediction = tf.equal(tf.argmax(output_logits, 1), tf.argmax(y, 1), name='correct_pred')\n",
        "        accuracy = tf.reduce_mean(tf.cast(correct_prediction, tf.float32), name='accuracy')\n",
        "        # prediction\n",
        "        cls_prediction = tf.argmax(output_logits, axis=1, name='predictions')\n",
        "\n",
        "# Initializing the variables\n",
        "init = tf.global_variables_initializer()\n",
        " "
      ],
      "execution_count": 0,
      "outputs": [
        {
          "output_type": "stream",
          "text": [
            "WARNING:tensorflow:From /usr/local/lib/python3.6/dist-packages/tensorflow/python/framework/op_def_library.py:263: colocate_with (from tensorflow.python.framework.ops) is deprecated and will be removed in a future version.\n",
            "Instructions for updating:\n",
            "Colocations handled automatically by placer.\n",
            "WARNING:tensorflow:From <ipython-input-6-97baf48e69cc>:53: softmax_cross_entropy_with_logits (from tensorflow.python.ops.nn_ops) is deprecated and will be removed in a future version.\n",
            "Instructions for updating:\n",
            "\n",
            "Future major versions of TensorFlow will allow gradients to flow\n",
            "into the labels input on backprop by default.\n",
            "\n",
            "See `tf.nn.softmax_cross_entropy_with_logits_v2`.\n",
            "\n"
          ],
          "name": "stdout"
        }
      ]
    },
    {
      "metadata": {
        "id": "N45VuVUBI5JF",
        "colab_type": "code",
        "outputId": "bc905d1f-d986-416e-c2bd-bb1a0da7cf41",
        "colab": {
          "base_uri": "https://localhost:8080/",
          "height": 1150
        }
      },
      "cell_type": "code",
      "source": [
        "\n",
        "init = tf.global_variables_initializer()\n",
        "merged = tf.summary.merge_all()\n",
        " \n",
        "sess = tf.InteractiveSession()\n",
        "sess.run(init)\n",
        "global_step = 0\n",
        "summary_writer = tf.summary.FileWriter(logs_path, sess.graph)\n",
        "# Number of training iterations in each epoch\n",
        "num_tr_iter = int(len(y_train) / batch_size)\n",
        "for epoch in range(epochs):\n",
        "    print('Training epoch: {}'.format(epoch + 1))\n",
        "    x_train, y_train = randomize(x_train, y_train)\n",
        "    for iteration in range(num_tr_iter):\n",
        "        global_step += 1\n",
        "        start = iteration * batch_size\n",
        "        end = (iteration + 1) * batch_size\n",
        "        x_batch, y_batch = get_next_batch(x_train, y_train, start, end)\n",
        "\n",
        "        # Run optimization op (backprop)\n",
        "        feed_dict_batch = {x: x_batch, y: y_batch}\n",
        "        sess.run(optimizer, feed_dict=feed_dict_batch)\n",
        "\n",
        "        if iteration % display_freq == 0:\n",
        "            # Calculate and display the batch loss and accuracy\n",
        "            loss_batch, acc_batch, summary_tr = sess.run([loss, accuracy, merged],\n",
        "                                                         feed_dict=feed_dict_batch)\n",
        "            summary_writer.add_summary(summary_tr, global_step)\n",
        "\n",
        "            print(\"iter {0:3d}:\\t Loss={1:.2f},\\tTraining Accuracy={2:.01%}\".\n",
        "                  format(iteration, loss_batch, acc_batch))\n",
        "\n",
        "    # Run validation after every epoch\n",
        "    feed_dict_valid = {x: x_valid, y: y_valid}\n",
        "    loss_valid, acc_valid = sess.run([loss, accuracy], feed_dict=feed_dict_valid)\n",
        "    print('---------------------------------------------------------')\n",
        "    print(\"Epoch: {0}, validation loss: {1:.2f}, validation accuracy: {2:.01%}\".\n",
        "          format(epoch + 1, loss_valid, acc_valid))\n",
        "    print('---------------------------------------------------------')"
      ],
      "execution_count": 0,
      "outputs": [
        {
          "output_type": "stream",
          "text": [
            "Training epoch: 1\n",
            "iter   0:\t Loss=2.30,\tTraining Accuracy=19.0%\n",
            "iter 300:\t Loss=0.19,\tTraining Accuracy=95.0%\n",
            "---------------------------------------------------------\n",
            "Epoch: 1, validation loss: 0.09, validation accuracy: 97.3%\n",
            "---------------------------------------------------------\n",
            "Training epoch: 2\n",
            "iter   0:\t Loss=0.03,\tTraining Accuracy=99.0%\n",
            "iter 300:\t Loss=0.09,\tTraining Accuracy=97.0%\n",
            "---------------------------------------------------------\n",
            "Epoch: 2, validation loss: 0.07, validation accuracy: 97.9%\n",
            "---------------------------------------------------------\n",
            "Training epoch: 3\n",
            "iter   0:\t Loss=0.10,\tTraining Accuracy=95.0%\n",
            "iter 300:\t Loss=0.07,\tTraining Accuracy=97.0%\n",
            "---------------------------------------------------------\n",
            "Epoch: 3, validation loss: 0.06, validation accuracy: 98.3%\n",
            "---------------------------------------------------------\n",
            "Training epoch: 4\n",
            "iter   0:\t Loss=0.03,\tTraining Accuracy=99.0%\n",
            "iter 300:\t Loss=0.02,\tTraining Accuracy=99.0%\n",
            "---------------------------------------------------------\n",
            "Epoch: 4, validation loss: 0.05, validation accuracy: 98.6%\n",
            "---------------------------------------------------------\n",
            "Training epoch: 5\n",
            "iter   0:\t Loss=0.01,\tTraining Accuracy=100.0%\n",
            "iter 300:\t Loss=0.01,\tTraining Accuracy=100.0%\n",
            "---------------------------------------------------------\n",
            "Epoch: 5, validation loss: 0.05, validation accuracy: 98.6%\n",
            "---------------------------------------------------------\n",
            "Training epoch: 6\n",
            "iter   0:\t Loss=0.01,\tTraining Accuracy=100.0%\n",
            "iter 300:\t Loss=0.01,\tTraining Accuracy=100.0%\n",
            "---------------------------------------------------------\n",
            "Epoch: 6, validation loss: 0.04, validation accuracy: 98.8%\n",
            "---------------------------------------------------------\n",
            "Training epoch: 7\n",
            "iter   0:\t Loss=0.01,\tTraining Accuracy=99.0%\n",
            "iter 300:\t Loss=0.00,\tTraining Accuracy=100.0%\n",
            "---------------------------------------------------------\n",
            "Epoch: 7, validation loss: 0.05, validation accuracy: 98.7%\n",
            "---------------------------------------------------------\n",
            "Training epoch: 8\n",
            "iter   0:\t Loss=0.01,\tTraining Accuracy=100.0%\n",
            "iter 300:\t Loss=0.00,\tTraining Accuracy=100.0%\n",
            "---------------------------------------------------------\n",
            "Epoch: 8, validation loss: 0.04, validation accuracy: 98.9%\n",
            "---------------------------------------------------------\n",
            "Training epoch: 9\n",
            "iter   0:\t Loss=0.03,\tTraining Accuracy=99.0%\n",
            "iter 300:\t Loss=0.00,\tTraining Accuracy=100.0%\n",
            "---------------------------------------------------------\n",
            "Epoch: 9, validation loss: 0.04, validation accuracy: 99.1%\n",
            "---------------------------------------------------------\n",
            "Training epoch: 10\n",
            "iter   0:\t Loss=0.01,\tTraining Accuracy=100.0%\n",
            "iter 300:\t Loss=0.01,\tTraining Accuracy=100.0%\n",
            "---------------------------------------------------------\n",
            "Epoch: 10, validation loss: 0.05, validation accuracy: 98.6%\n",
            "---------------------------------------------------------\n"
          ],
          "name": "stdout"
        }
      ]
    },
    {
      "metadata": {
        "id": "NLDMfZKkqTJD",
        "colab_type": "code",
        "outputId": "431c7139-b19d-4a4f-8dce-bc01d049f5c7",
        "colab": {
          "base_uri": "https://localhost:8080/",
          "height": 35
        }
      },
      "cell_type": "code",
      "source": [
        "%tensorboard --logdir logs/scalars\n"
      ],
      "execution_count": 0,
      "outputs": [
        {
          "output_type": "stream",
          "text": [
            "UsageError: Line magic function `%tensorboard` not found.\n"
          ],
          "name": "stderr"
        }
      ]
    },
    {
      "metadata": {
        "id": "amNqyuk6uJvt",
        "colab_type": "code",
        "outputId": "e5587ed0-54aa-40c8-ae72-4adca41c3c3f",
        "colab": {
          "base_uri": "https://localhost:8080/",
          "height": 35
        }
      },
      "cell_type": "code",
      "source": [
        "a = (i for i in range(10))\n",
        "\n",
        "a.__next__()"
      ],
      "execution_count": 0,
      "outputs": [
        {
          "output_type": "execute_result",
          "data": {
            "text/plain": [
              "0"
            ]
          },
          "metadata": {
            "tags": []
          },
          "execution_count": 25
        }
      ]
    },
    {
      "metadata": {
        "id": "0nyZz-6ouOwU",
        "colab_type": "code",
        "outputId": "fb367bde-c613-4854-e747-5aaaefdb33b6",
        "colab": {
          "base_uri": "https://localhost:8080/",
          "height": 111
        }
      },
      "cell_type": "code",
      "source": [
        "def numlist(n):  \n",
        "    while(n < 10):  \n",
        "        yield n  \n",
        "        n += 1  \n",
        "        \n",
        "for i in numlist(5): print(i)"
      ],
      "execution_count": 0,
      "outputs": [
        {
          "output_type": "stream",
          "text": [
            "5\n",
            "6\n",
            "7\n",
            "8\n",
            "9\n"
          ],
          "name": "stdout"
        }
      ]
    },
    {
      "metadata": {
        "id": "II742YxPxC0e",
        "colab_type": "code",
        "colab": {}
      },
      "cell_type": "code",
      "source": [
        ""
      ],
      "execution_count": 0,
      "outputs": []
    }
  ]
}