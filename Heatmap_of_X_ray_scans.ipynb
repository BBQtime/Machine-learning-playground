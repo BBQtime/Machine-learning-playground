{
  "nbformat": 4,
  "nbformat_minor": 0,
  "metadata": {
    "colab": {
      "name": "Heatmap of X-ray scans.ipynb",
      "version": "0.3.2",
      "provenance": [],
      "include_colab_link": true
    },
    "kernelspec": {
      "name": "python3",
      "display_name": "Python 3"
    }
  },
  "cells": [
    {
      "cell_type": "markdown",
      "metadata": {
        "id": "view-in-github",
        "colab_type": "text"
      },
      "source": [
        "<a href=\"https://colab.research.google.com/github/BBQtime/Machine-learning-playground/blob/master/Heatmap_of_X_ray_scans.ipynb\" target=\"_parent\"><img src=\"https://colab.research.google.com/assets/colab-badge.svg\" alt=\"Open In Colab\"/></a>"
      ]
    },
    {
      "cell_type": "code",
      "metadata": {
        "id": "7stARKbB5dQd",
        "colab_type": "code",
        "colab": {}
      },
      "source": [
        "from google.colab import drive\n",
        "import matplotlib.image as mpimg\n",
        "from tensorflow.keras import backend as K\n",
        "import matplotlib.pyplot as plt\n",
        "%matplotlib inline\n",
        "\n",
        "drive.mount('/content/drive')\n",
        "\n",
        "img_path = '/content/drive/My Drive/Unknown1.png'\n",
        "img=mpimg.imread(img_path)\n",
        "plt.imshow(img)\n",
        "print(img.shape)\n",
        "\n",
        "img = cv2.resize(img, (320,320))\n",
        "\n",
        "x = image.img_to_array(img)\n",
        "import numpy as np\n",
        "x = np.expand_dims(x, axis=0)\n",
        "print(x.shape)\n",
        "\n",
        "\n",
        "preds = model.predict(x)\n",
        "print(preds)\n",
        "\n",
        "        \n",
        "argmax = np.argmax(preds[0])\n",
        "print(argmax)\n",
        "output = model.output[:, argmax]\n"
      ],
      "execution_count": 0,
      "outputs": []
    },
    {
      "cell_type": "code",
      "metadata": {
        "id": "3I-uXRIj5keN",
        "colab_type": "code",
        "colab": {}
      },
      "source": [
        "last_conv_layer = model.get_layer('conv5_block16_2_conv')\n",
        "grads = K.gradients(output, last_conv_layer.output)[0]\n",
        "pooled_grads = K.mean(grads, axis=(0, 1, 2))\n",
        "iterate = K.function([model.input], [pooled_grads, last_conv_layer.output[0]])\n",
        "pooled_grads_value, conv_layer_output_value = iterate([x])\n",
        "print(conv_layer_output_value.shape)\n",
        "for i in range(conv_layer_output_value.shape[-1]):\n",
        "    conv_layer_output_value[:, :, i] *= pooled_grads_value[i]\n",
        "\n",
        "heatmap = np.mean(conv_layer_output_value, axis=-1)\n",
        "heatmap = np.maximum(heatmap, 0)\n",
        "heatmap /= np.max(heatmap)\n",
        "plt.matshow(heatmap)\n",
        "plt.show()\n",
        "\n",
        "import cv2\n",
        "img = cv2.imread(img_path)\n",
        "print(heatmap.shape, img.shape)\n",
        "heatmap = cv2.resize(heatmap, (img.shape[1], img.shape[0]))\n",
        "\n",
        "heatmap = np.uint8(255 * heatmap)\n",
        "heatmap = cv2.applyColorMap(heatmap, cv2.COLORMAP_JET)\n",
        "hif = .8\n",
        "\n",
        "superimposed_img = heatmap * hif + img\n",
        "\n",
        "saveimg = '/content/drive/My Drive/heatmap1.png'\n",
        "cv2.imwrite(saveimg, superimposed_img)\n",
        "\n",
        "img=mpimg.imread(saveimg)\n",
        "\n",
        "plt.imshow(img)\n",
        "plt.axis('off')\n"
      ],
      "execution_count": 0,
      "outputs": []
    }
  ]
}